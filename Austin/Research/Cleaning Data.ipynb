{
 "cells": [
  {
   "cell_type": "code",
   "execution_count": 28,
   "metadata": {
    "collapsed": true
   },
   "outputs": [],
   "source": [
    "import sqlalchemy as sql\n",
    "import pandas"
   ]
  },
  {
   "cell_type": "code",
   "execution_count": 29,
   "metadata": {
    "collapsed": true
   },
   "outputs": [],
   "source": [
    "con = sql.create_engine(\"sqlite:///daily.sqlite\")"
   ]
  },
  {
   "cell_type": "code",
   "execution_count": 30,
   "metadata": {
    "collapsed": true
   },
   "outputs": [],
   "source": [
    "test = con.execute(\"SELECT name FROM sqlite_master\")"
   ]
  },
  {
   "cell_type": "code",
   "execution_count": 31,
   "metadata": {
    "collapsed": false
   },
   "outputs": [
    {
     "data": {
      "text/plain": [
       "[(u'ones',),\n",
       " (u'ix_ones_level_0',),\n",
       " (u'zeros',),\n",
       " (u'ix_zeros_level_0',),\n",
       " (u'zwout',),\n",
       " (u'zs',),\n",
       " (u'zsfin',),\n",
       " (u'ix_zsfin_level_0',),\n",
       " (u'onesELE',),\n",
       " (u'onesElevation',),\n",
       " (u'ix_onesElevation_level_0',),\n",
       " (u'zerosElevation',),\n",
       " (u'zerosEle',),\n",
       " (u'ix_zerosEle_level_0',),\n",
       " (u'combined',),\n",
       " (u'ix_combined_index',),\n",
       " (u'combined_shuffled',),\n",
       " (u'comloc',),\n",
       " (u'ix_comloc_index',)]"
      ]
     },
     "execution_count": 31,
     "metadata": {},
     "output_type": "execute_result"
    }
   ],
   "source": [
    "test.fetchall()"
   ]
  },
  {
   "cell_type": "code",
   "execution_count": 32,
   "metadata": {
    "collapsed": false
   },
   "outputs": [],
   "source": [
    "ones = pandas.read_sql_table(table_name = 'onesElevation',con = con)"
   ]
  },
  {
   "cell_type": "code",
   "execution_count": 33,
   "metadata": {
    "collapsed": false
   },
   "outputs": [],
   "source": [
    "zeros = pandas.read_sql_table(table_name = 'zerosEle',con=con)"
   ]
  },
  {
   "cell_type": "code",
   "execution_count": 34,
   "metadata": {
    "collapsed": false
   },
   "outputs": [],
   "source": [
    "zeros['fire'] = 0\n",
    "ones['fire'] = 1"
   ]
  },
  {
   "cell_type": "code",
   "execution_count": 35,
   "metadata": {
    "collapsed": true
   },
   "outputs": [],
   "source": [
    "combined = pandas.concat([ones,zeros],axis = 0)"
   ]
  },
  {
   "cell_type": "code",
   "execution_count": 36,
   "metadata": {
    "collapsed": true
   },
   "outputs": [],
   "source": [
    "combined_shuffled = combined.sample(frac=1)"
   ]
  },
  {
   "cell_type": "code",
   "execution_count": 37,
   "metadata": {
    "collapsed": false
   },
   "outputs": [],
   "source": [
    "del combined['level_0']"
   ]
  },
  {
   "cell_type": "code",
   "execution_count": 38,
   "metadata": {
    "collapsed": false
   },
   "outputs": [],
   "source": [
    "del combined['lat'],combined['lon']"
   ]
  },
  {
   "cell_type": "code",
   "execution_count": 39,
   "metadata": {
    "collapsed": false
   },
   "outputs": [],
   "source": [
    "del combined['icon'], combined['unixTime'], combined['index'],combined['summary']"
   ]
  },
  {
   "cell_type": "code",
   "execution_count": 40,
   "metadata": {
    "collapsed": false
   },
   "outputs": [
    {
     "data": {
      "text/plain": [
       "Index([         u'apmaxTemp',          u'apminTemp',         u'cloudCover',\n",
       "                 u'dewPoint',          u'elevation',               u'fire',\n",
       "                 u'humidity',          u'moonPhase',    u'precipIntensity',\n",
       "       u'precipIntensityMax',         u'precipProb',         u'precipType',\n",
       "                 u'pressure',            u'tempMax',            u'tempMin',\n",
       "               u'visibility',        u'windBearing',          u'windSpeed'],\n",
       "      dtype='object')"
      ]
     },
     "execution_count": 40,
     "metadata": {},
     "output_type": "execute_result"
    }
   ],
   "source": [
    "combined.columns"
   ]
  },
  {
   "cell_type": "code",
   "execution_count": 41,
   "metadata": {
    "collapsed": false
   },
   "outputs": [],
   "source": [
    "combined.to_sql(name=\"combined\",con = con,if_exists= 'replace')"
   ]
  },
  {
   "cell_type": "code",
   "execution_count": 42,
   "metadata": {
    "collapsed": true
   },
   "outputs": [],
   "source": [
    "combined.to_csv(\"combined.csv\")"
   ]
  }
 ],
 "metadata": {
  "kernelspec": {
   "display_name": "Python 2",
   "language": "python",
   "name": "python2"
  },
  "language_info": {
   "codemirror_mode": {
    "name": "ipython",
    "version": 2
   },
   "file_extension": ".py",
   "mimetype": "text/x-python",
   "name": "python",
   "nbconvert_exporter": "python",
   "pygments_lexer": "ipython2",
   "version": "2.7.13"
  }
 },
 "nbformat": 4,
 "nbformat_minor": 2
}
