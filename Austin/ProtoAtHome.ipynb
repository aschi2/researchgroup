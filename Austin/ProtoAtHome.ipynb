{
 "cells": [
  {
   "cell_type": "code",
   "execution_count": 1,
   "metadata": {
    "collapsed": false
   },
   "outputs": [],
   "source": [
    "from sqlalchemy import create_engine\n",
    "import pandas as pd\n",
    "from pandas import io\n",
    "\n",
    "rootdir = \"/home/aschi/Documents/\"\n",
    "csvfile = rootdir + \"transactions.csv\"\n",
    "transcsv = pd.read_csv(csvfile, iterator=True, chunksize = 10000)\n",
    "\n",
    "engine = create_engine('sqlite:///'+rootdir + 'trans.sqlite')\n",
    "\n",
    "tablecur = transcsv.next()\n",
    "tablecur.head()\n",
    "\n",
    "for tablecur in transcsv:\n",
    "    tablecur.to_sql('trans',engine,if_exists='append')"
   ]
  }
 ],
 "metadata": {
  "kernelspec": {
   "display_name": "Python 2",
   "language": "python",
   "name": "python2"
  },
  "language_info": {
   "codemirror_mode": {
    "name": "ipython",
    "version": 2
   },
   "file_extension": ".py",
   "mimetype": "text/x-python",
   "name": "python",
   "nbconvert_exporter": "python",
   "pygments_lexer": "ipython2",
   "version": "2.7.12"
  }
 },
 "nbformat": 4,
 "nbformat_minor": 1
}
