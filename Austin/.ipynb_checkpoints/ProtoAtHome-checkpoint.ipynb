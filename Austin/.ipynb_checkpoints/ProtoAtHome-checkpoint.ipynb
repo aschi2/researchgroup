{
 "cells": [
  {
   "cell_type": "code",
   "execution_count": 5,
   "metadata": {
    "collapsed": false
   },
   "outputs": [
    {
     "ename": "SyntaxError",
     "evalue": "EOL while scanning string literal (<ipython-input-5-327b4243d6c4>, line 5)",
     "output_type": "error",
     "traceback": [
      "\u001b[0;36m  File \u001b[0;32m\"<ipython-input-5-327b4243d6c4>\"\u001b[0;36m, line \u001b[0;32m5\u001b[0m\n\u001b[0;31m    rootdir = \"C:\\\\Users\\\\Austin Chi\\\\Dropbox\\\\Research Project Austin\\\\researchgroup\\\\Austin\\\"\u001b[0m\n\u001b[0m                                                                                              ^\u001b[0m\n\u001b[0;31mSyntaxError\u001b[0m\u001b[0;31m:\u001b[0m EOL while scanning string literal\n"
     ]
    }
   ],
   "source": [
    "from sqlalchemy import create_engine\n",
    "import pandas as pd\n",
    "from pandas import io\n",
    "\n",
    "rootdir = \"C:\\\\Users\\\\Austin Chi\\\\Dropbox\\\\Research Project Austin\\\\researchgroup\\\\Austin\\\\\"\n",
    "csvfile = rootdir + \"firedata.csv\"\n",
    "transcsv = pd.read_csv(csvfile, iterator=True, chunksize = 1)\n",
    "\n",
    "engine = create_engine('sqlite:///'+rootdir + 'fire.sqlite')\n",
    "\n",
    "tablecur = transcsv.next()\n",
    "tablecur.head()\n",
    "\n",
    "for tablecur in transcsv:\n",
    "    tablecur.to_sql('fire',engine,if_exists='append')"
   ]
  }
 ],
 "metadata": {
  "anaconda-cloud": {},
  "kernelspec": {
   "display_name": "Python [default]",
   "language": "python",
   "name": "python2"
  },
  "language_info": {
   "codemirror_mode": {
    "name": "ipython",
    "version": 2
   },
   "file_extension": ".py",
   "mimetype": "text/x-python",
   "name": "python",
   "nbconvert_exporter": "python",
   "pygments_lexer": "ipython2",
   "version": "2.7.12"
  }
 },
 "nbformat": 4,
 "nbformat_minor": 1
}
