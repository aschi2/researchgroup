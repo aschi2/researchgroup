{
 "cells": [
  {
   "cell_type": "code",
   "execution_count": null,
   "metadata": {
    "collapsed": true
   },
   "outputs": [],
   "source": [
    "from sqlalchemy import create_engine\n",
    "import pandas as pd\n",
    "from pandas import io\n",
    "\n",
    "rootdir = \"/scratch/jslab/aws/\"\n",
    "csvfile = rootdir + \"transactions.csv\"\n",
    "transcsv = pd.read_csv(csvfile, iterator=True, chunksize = 100000)\n",
    "engine = create_engine('sqlite:///'+rootdir + 'trans.sqlite')\n",
    "\n",
    "tablecur = transcsv.next()\n",
    "tablecur.to_sql('trans', engine)\n",
    "io.sql.read_sql_query('SELECT * FROM trans WHERE id=86246 AND category=9753',engine)\n",
    "#471 rows specific to person_id 86246 and specified category\n",
    "io.sql.read_sql_query('SELECT id,category,date FROM trans WHERE id=86246 AND category=9753',engine)\n",
    "#for this specific query it ranges from 3/2/12 - 4/23/13"
   ]
  }
 ],
 "metadata": {
  "kernelspec": {
   "display_name": "Python [Root]",
   "language": "python",
   "name": "Python [Root]"
  },
  "language_info": {
   "codemirror_mode": {
    "name": "ipython",
    "version": 2
   },
   "file_extension": ".py",
   "mimetype": "text/x-python",
   "name": "python",
   "nbconvert_exporter": "python",
   "pygments_lexer": "ipython2",
   "version": "2.7.12"
  }
 },
 "nbformat": 4,
 "nbformat_minor": 0
}
