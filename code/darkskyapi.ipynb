{
 "cells": [
  {
   "cell_type": "code",
   "execution_count": 101,
   "metadata": {
    "collapsed": false
   },
   "outputs": [],
   "source": [
    "from urllib2 import Request, urlopen\n",
    "import pandas as pd\n",
    "import requests\n",
    "import json\n",
    "import time\n",
    "from datetime import datetime\n",
    "\n"
   ]
  },
  {
   "cell_type": "code",
   "execution_count": 102,
   "metadata": {
    "collapsed": true
   },
   "outputs": [],
   "source": [
    "data = pd.read_excel(open(\"/Users/noa/Documents/research/fire.xlsx\",'rb'))"
   ]
  },
  {
   "cell_type": "code",
   "execution_count": 132,
   "metadata": {
    "collapsed": false
   },
   "outputs": [
    {
     "data": {
      "text/html": [
       "<div>\n",
       "<table border=\"1\" class=\"dataframe\">\n",
       "  <thead>\n",
       "    <tr style=\"text-align: right;\">\n",
       "      <th></th>\n",
       "      <th>AREA</th>\n",
       "      <th>PERIMETER</th>\n",
       "      <th>FIRE_</th>\n",
       "      <th>FIRE_ID</th>\n",
       "      <th>LAT</th>\n",
       "      <th>LONG</th>\n",
       "      <th>DATE</th>\n",
       "      <th>JULIAN</th>\n",
       "      <th>GMT</th>\n",
       "      <th>TEMP</th>\n",
       "      <th>SPIX</th>\n",
       "      <th>TPIX</th>\n",
       "      <th>SRC</th>\n",
       "      <th>SAT_SRC</th>\n",
       "      <th>CONF</th>\n",
       "      <th>FRP</th>\n",
       "    </tr>\n",
       "  </thead>\n",
       "  <tbody>\n",
       "    <tr>\n",
       "      <th>0</th>\n",
       "      <td>0</td>\n",
       "      <td>0</td>\n",
       "      <td>1</td>\n",
       "      <td>151960</td>\n",
       "      <td>49.840</td>\n",
       "      <td>-95.150</td>\n",
       "      <td>2016-05-08</td>\n",
       "      <td>129</td>\n",
       "      <td>310</td>\n",
       "      <td>305.4</td>\n",
       "      <td>3.7</td>\n",
       "      <td>1.8</td>\n",
       "      <td>gsfc</td>\n",
       "      <td>T</td>\n",
       "      <td>12</td>\n",
       "      <td>106.4</td>\n",
       "    </tr>\n",
       "    <tr>\n",
       "      <th>1</th>\n",
       "      <td>0</td>\n",
       "      <td>0</td>\n",
       "      <td>2</td>\n",
       "      <td>551166</td>\n",
       "      <td>49.840</td>\n",
       "      <td>-95.150</td>\n",
       "      <td>2016-05-08</td>\n",
       "      <td>129</td>\n",
       "      <td>310</td>\n",
       "      <td>305.4</td>\n",
       "      <td>3.7</td>\n",
       "      <td>1.8</td>\n",
       "      <td>gsfc</td>\n",
       "      <td>T</td>\n",
       "      <td>12</td>\n",
       "      <td>106.4</td>\n",
       "    </tr>\n",
       "    <tr>\n",
       "      <th>2</th>\n",
       "      <td>0</td>\n",
       "      <td>0</td>\n",
       "      <td>3</td>\n",
       "      <td>152996</td>\n",
       "      <td>49.839</td>\n",
       "      <td>-95.168</td>\n",
       "      <td>2016-05-09</td>\n",
       "      <td>130</td>\n",
       "      <td>352</td>\n",
       "      <td>323.0</td>\n",
       "      <td>1.2</td>\n",
       "      <td>1.1</td>\n",
       "      <td>rsac</td>\n",
       "      <td>T</td>\n",
       "      <td>46</td>\n",
       "      <td>26.8</td>\n",
       "    </tr>\n",
       "    <tr>\n",
       "      <th>3</th>\n",
       "      <td>0</td>\n",
       "      <td>0</td>\n",
       "      <td>4</td>\n",
       "      <td>552202</td>\n",
       "      <td>49.839</td>\n",
       "      <td>-95.168</td>\n",
       "      <td>2016-05-09</td>\n",
       "      <td>130</td>\n",
       "      <td>352</td>\n",
       "      <td>323.0</td>\n",
       "      <td>1.2</td>\n",
       "      <td>1.1</td>\n",
       "      <td>rsac</td>\n",
       "      <td>T</td>\n",
       "      <td>46</td>\n",
       "      <td>26.8</td>\n",
       "    </tr>\n",
       "    <tr>\n",
       "      <th>4</th>\n",
       "      <td>0</td>\n",
       "      <td>0</td>\n",
       "      <td>5</td>\n",
       "      <td>26382</td>\n",
       "      <td>49.839</td>\n",
       "      <td>-95.129</td>\n",
       "      <td>2016-05-09</td>\n",
       "      <td>130</td>\n",
       "      <td>1901</td>\n",
       "      <td>326.6</td>\n",
       "      <td>1.0</td>\n",
       "      <td>1.0</td>\n",
       "      <td>ssec</td>\n",
       "      <td>A</td>\n",
       "      <td>49</td>\n",
       "      <td>22.1</td>\n",
       "    </tr>\n",
       "  </tbody>\n",
       "</table>\n",
       "</div>"
      ],
      "text/plain": [
       "   AREA  PERIMETER  FIRE_  FIRE_ID     LAT    LONG       DATE  JULIAN   GMT  \\\n",
       "0     0          0      1   151960  49.840 -95.150 2016-05-08     129   310   \n",
       "1     0          0      2   551166  49.840 -95.150 2016-05-08     129   310   \n",
       "2     0          0      3   152996  49.839 -95.168 2016-05-09     130   352   \n",
       "3     0          0      4   552202  49.839 -95.168 2016-05-09     130   352   \n",
       "4     0          0      5    26382  49.839 -95.129 2016-05-09     130  1901   \n",
       "\n",
       "    TEMP  SPIX  TPIX   SRC SAT_SRC  CONF    FRP  \n",
       "0  305.4   3.7   1.8  gsfc       T    12  106.4  \n",
       "1  305.4   3.7   1.8  gsfc       T    12  106.4  \n",
       "2  323.0   1.2   1.1  rsac       T    46   26.8  \n",
       "3  323.0   1.2   1.1  rsac       T    46   26.8  \n",
       "4  326.6   1.0   1.0  ssec       A    49   22.1  "
      ]
     },
     "execution_count": 132,
     "metadata": {},
     "output_type": "execute_result"
    }
   ],
   "source": [
    "data.head()\n"
   ]
  },
  {
   "cell_type": "code",
   "execution_count": 123,
   "metadata": {
    "collapsed": false
   },
   "outputs": [],
   "source": [
    "def toUnix(d, time):\n",
    "    time = str(time)\n",
    "\n",
    "    if (len(time) == 3):\n",
    "        time = '0' + time\n",
    "    extra = time[len(time) - 2:len(time)]\n",
    "    extra = \":\" + extra\n",
    "    time = time[:-2]\n",
    "    time = time + extra\n",
    "    date = d.strftime('%Y-%m-%d')\n",
    "    date = date+\" \"+time\n",
    "    datetime_object = datetime.strptime(date, '%Y-%m-%d %H:%M')\n",
    "    return (datetime_object - datetime(1970,1,1)).total_seconds()"
   ]
  },
  {
   "cell_type": "code",
   "execution_count": 125,
   "metadata": {
    "collapsed": false
   },
   "outputs": [
    {
     "data": {
      "text/plain": [
       "1462677000.0"
      ]
     },
     "execution_count": 125,
     "metadata": {},
     "output_type": "execute_result"
    }
   ],
   "source": [
    "toUnix(d, time)"
   ]
  },
  {
   "cell_type": "code",
   "execution_count": 130,
   "metadata": {
    "collapsed": false
   },
   "outputs": [],
   "source": [
    "def makerequest(lat, lon, time,api = 'ae81c74d7b434000492e19b44facafc0'):\n",
    "    \"\"\"Takes lat (float), lon (float), time (int) and api (string) (optional), returns an 1 x n pandas dataframe.\"\"\"\n",
    "    url = \"https://api.darksky.net/forecast/%s/%f,%f,%d\"\n",
    "    query = url % (api,lat,lon,time)\n",
    "    r = requests.get(query)\n",
    "    json_weather = r.json()\n",
    "    df = pd.read_json(r.text)\n",
    "    testerdf = pd.DataFrame(df['currently'])\n",
    "    test2 = pd.DataFrame.transpose(testerdf)\n",
    "    return test2"
   ]
  },
  {
   "cell_type": "code",
   "execution_count": 131,
   "metadata": {
    "collapsed": false
   },
   "outputs": [
    {
     "data": {
      "text/html": [
       "<div>\n",
       "<table border=\"1\" class=\"dataframe\">\n",
       "  <thead>\n",
       "    <tr style=\"text-align: right;\">\n",
       "      <th></th>\n",
       "      <th>apparentTemperature</th>\n",
       "      <th>cloudCover</th>\n",
       "      <th>data</th>\n",
       "      <th>dewPoint</th>\n",
       "      <th>humidity</th>\n",
       "      <th>icon</th>\n",
       "      <th>isd-stations</th>\n",
       "      <th>precipIntensity</th>\n",
       "      <th>precipProbability</th>\n",
       "      <th>pressure</th>\n",
       "      <th>sources</th>\n",
       "      <th>summary</th>\n",
       "      <th>temperature</th>\n",
       "      <th>time</th>\n",
       "      <th>units</th>\n",
       "      <th>visibility</th>\n",
       "      <th>windBearing</th>\n",
       "      <th>windSpeed</th>\n",
       "    </tr>\n",
       "  </thead>\n",
       "  <tbody>\n",
       "    <tr>\n",
       "      <th>currently</th>\n",
       "      <td>49.54</td>\n",
       "      <td>0.26</td>\n",
       "      <td>NaN</td>\n",
       "      <td>31.14</td>\n",
       "      <td>0.49</td>\n",
       "      <td>partly-cloudy-night</td>\n",
       "      <td>NaN</td>\n",
       "      <td>0</td>\n",
       "      <td>0</td>\n",
       "      <td>1011.89</td>\n",
       "      <td>NaN</td>\n",
       "      <td>Partly Cloudy</td>\n",
       "      <td>49.54</td>\n",
       "      <td>1462677000</td>\n",
       "      <td>NaN</td>\n",
       "      <td>9.4</td>\n",
       "      <td>88</td>\n",
       "      <td>2.08</td>\n",
       "    </tr>\n",
       "  </tbody>\n",
       "</table>\n",
       "</div>"
      ],
      "text/plain": [
       "          apparentTemperature cloudCover data dewPoint humidity  \\\n",
       "currently               49.54       0.26  NaN    31.14     0.49   \n",
       "\n",
       "                          icon isd-stations precipIntensity precipProbability  \\\n",
       "currently  partly-cloudy-night          NaN               0                 0   \n",
       "\n",
       "          pressure sources        summary temperature        time units  \\\n",
       "currently  1011.89     NaN  Partly Cloudy       49.54  1462677000   NaN   \n",
       "\n",
       "          visibility windBearing windSpeed  \n",
       "currently        9.4          88      2.08  "
      ]
     },
     "execution_count": 131,
     "metadata": {},
     "output_type": "execute_result"
    }
   ],
   "source": [
    "makerequest(lat, lon, toUnix(d,time))"
   ]
  },
  {
   "cell_type": "code",
   "execution_count": null,
   "metadata": {
    "collapsed": true
   },
   "outputs": [],
   "source": []
  }
 ],
 "metadata": {
  "anaconda-cloud": {},
  "kernelspec": {
   "display_name": "Python [conda root]",
   "language": "python",
   "name": "conda-root-py"
  },
  "language_info": {
   "codemirror_mode": {
    "name": "ipython",
    "version": 2
   },
   "file_extension": ".py",
   "mimetype": "text/x-python",
   "name": "python",
   "nbconvert_exporter": "python",
   "pygments_lexer": "ipython2",
   "version": "2.7.12"
  }
 },
 "nbformat": 4,
 "nbformat_minor": 1
}
