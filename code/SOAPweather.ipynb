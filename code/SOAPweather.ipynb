{
 "cells": [
  {
   "cell_type": "code",
   "execution_count": 2,
   "metadata": {
    "collapsed": true
   },
   "outputs": [],
   "source": [
    "from zeep import Client"
   ]
  },
  {
   "cell_type": "code",
   "execution_count": 3,
   "metadata": {
    "collapsed": true
   },
   "outputs": [],
   "source": [
    "wsdl = 'http://graphical.weather.gov/xml/DWMLgen/wsdl/ndfdXML.wsdl'\n",
    "c = Client(wsdl = wsdl)"
   ]
  },
  {
   "cell_type": "code",
   "execution_count": 4,
   "metadata": {
    "collapsed": true
   },
   "outputs": [],
   "source": [
    "s = c.service"
   ]
  },
  {
   "cell_type": "code",
   "execution_count": 5,
   "metadata": {
    "collapsed": true
   },
   "outputs": [],
   "source": [
    "from datetime import datetime"
   ]
  },
  {
   "cell_type": "code",
   "execution_count": 6,
   "metadata": {
    "collapsed": false
   },
   "outputs": [],
   "source": [
    "dt = datetime(2016,1,1,11,59,59)\n",
    "#('2016-01-01T11:59:59')\n"
   ]
  },
  {
   "cell_type": "code",
   "execution_count": 32,
   "metadata": {
    "collapsed": false
   },
   "outputs": [],
   "source": [
    "class weatherParameters:\n",
    "    ar = ['maxt = False','mint = False']\n",
    "wParameters = weatherParameters();"
   ]
  },
  {
   "cell_type": "code",
   "execution_count": 15,
   "metadata": {
    "collapsed": false
   },
   "outputs": [
    {
     "ename": "SyntaxError",
     "evalue": "invalid syntax (<ipython-input-15-dc6c6601f754>, line 1)",
     "output_type": "error",
     "traceback": [
      "\u001b[0;36m  File \u001b[0;32m\"<ipython-input-15-dc6c6601f754>\"\u001b[0;36m, line \u001b[0;32m1\u001b[0m\n\u001b[0;31m    weather = ['maxt'=True, 'mint' = True]\u001b[0m\n\u001b[0m                     ^\u001b[0m\n\u001b[0;31mSyntaxError\u001b[0m\u001b[0;31m:\u001b[0m invalid syntax\n"
     ]
    }
   ],
   "source": [
    "weather = ['maxt'=True, 'mint' = True]"
   ]
  },
  {
   "cell_type": "code",
   "execution_count": 36,
   "metadata": {
    "collapsed": false
   },
   "outputs": [
    {
     "data": {
      "text/plain": [
       "'<?xml version=\"1.0\"?>\\n<dwml version=\"1.0\" xmlns:xsd=\"http://www.w3.org/2001/XMLSchema\" xmlns:xsi=\"http://www.w3.org/2001/XMLSchema-instance\" xsi:noNamespaceSchemaLocation=\"http://www.nws.noaa.gov/forecasts/xml/DWMLgen/schema/DWML.xsd\">\\n  <head>\\n    <product srsName=\"WGS 1984\" concise-name=\"time-series\" operational-mode=\"official\">\\n      <title>NOAA\\'s National Weather Service Real Time Mesoscale Analysis And Forecast Data</title>\\n      <field>meteorological</field>\\n      <category>analysis and forecast</category>\\n      <creation-date refresh-frequency=\"PT1H\">2017-02-06T17:53:19Z</creation-date>\\n    </product>\\n    <source>\\n      <more-information>http://products.weather.gov/search.php</more-information>\\n      <production-center>Meteorological Development Laboratory<sub-center>Product Generation Branch</sub-center></production-center>\\n      <disclaimer>http://www.nws.noaa.gov/disclaimer.html</disclaimer>\\n      <credit>http://www.weather.gov/</credit>\\n      <credit-logo>http://www.weather.gov/images/xml_logo.gif</credit-logo>\\n      <feedback>http://www.weather.gov/feedback.php</feedback>\\n    </source>\\n  </head>\\n  <data>\\n    <location>\\n      <location-key>point1</location-key>\\n      <point latitude=\"39.00\" longitude=\"-77.00\"/>\\n    </location>\\n    <moreWeatherInformation applicable-location=\"point1\">http://forecast.weather.gov/MapClick.php?textField1=39.00&amp;textField2=-77.00</moreWeatherInformation>\\n    <parameters applicable-location=\"point1\"/>\\n  </data>\\n</dwml>\\n'"
      ]
     },
     "execution_count": 36,
     "metadata": {},
     "output_type": "execute_result"
    }
   ],
   "source": [
    "s.NDFDgen(39.0000,-77.0000,'time-series',dt,dt, 'e', []) #this works but idk if it even prints anything important"
   ]
  },
  {
   "cell_type": "code",
   "execution_count": 37,
   "metadata": {
    "collapsed": false
   },
   "outputs": [
    {
     "data": {
      "text/plain": [
       "\"<?xml version='1.0'?><dwml version='1.0' xmlns:xsd='http://www.w3.org/2001/XMLSchema' xmlns:xsi='http://www.w3.org/2001/XMLSchema-instance' xsi:noNamespaceSchemaLocation='http://graphical.weather.gov/xml/DWMLgen/schema/DWML.xsd'><latLonList>37.4135,-122.131</latLonList></dwml>\""
      ]
     },
     "execution_count": 37,
     "metadata": {},
     "output_type": "execute_result"
    }
   ],
   "source": [
    "s.LatLonListZipCode('94306')"
   ]
  },
  {
   "cell_type": "code",
   "execution_count": 54,
   "metadata": {
    "collapsed": false
   },
   "outputs": [
    {
     "ename": "SyntaxError",
     "evalue": "invalid syntax (<ipython-input-54-7c1488c5021d>, line 1)",
     "output_type": "error",
     "traceback": [
      "\u001b[0;36m  File \u001b[0;32m\"<ipython-input-54-7c1488c5021d>\"\u001b[0;36m, line \u001b[0;32m1\u001b[0m\n\u001b[0;31m    s.NDFDgen(39.0000,-77.0000,'time-series',dt,dt, 'e',weatherParameters:maxT='TRUE') #this works but idk if it even prints anything important\u001b[0m\n\u001b[0m                                                                         ^\u001b[0m\n\u001b[0;31mSyntaxError\u001b[0m\u001b[0;31m:\u001b[0m invalid syntax\n"
     ]
    }
   ],
   "source": [
    "s.NDFDgen(39.0000,-77.0000,'time-series',dt,dt, 'e',weatherParameters: 'maxT='TRUE') #this works but idk if it even prints anything important"
   ]
  },
  {
   "cell_type": "code",
   "execution_count": null,
   "metadata": {
    "collapsed": true
   },
   "outputs": [],
   "source": []
  }
 ],
 "metadata": {
  "anaconda-cloud": {},
  "kernelspec": {
   "display_name": "Python [default]",
   "language": "python",
   "name": "python2"
  },
  "language_info": {
   "codemirror_mode": {
    "name": "ipython",
    "version": 2
   },
   "file_extension": ".py",
   "mimetype": "text/x-python",
   "name": "python",
   "nbconvert_exporter": "python",
   "pygments_lexer": "ipython2",
   "version": "2.7.12"
  }
 },
 "nbformat": 4,
 "nbformat_minor": 1
}
